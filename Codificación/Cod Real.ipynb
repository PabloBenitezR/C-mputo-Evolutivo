{
 "cells": [
  {
   "cell_type": "code",
   "execution_count": 24,
   "metadata": {},
   "outputs": [],
   "source": [
    "import numpy as np\n",
    "import matplotlib.pyplot as plt"
   ]
  },
  {
   "cell_type": "markdown",
   "metadata": {},
   "source": [
    "En esta sección solo correr una de las funciones:\n",
    "\n",
    "1. Esfera\n",
    "\n",
    "2. Rosenbrok\n",
    "\n",
    "3. Himmelblau's\n",
    "\n",
    "4. Eggholder"
   ]
  },
  {
   "cell_type": "code",
   "execution_count": null,
   "metadata": {},
   "outputs": [],
   "source": [
    "# Esfera \n",
    "def funcion(x):\n",
    "    return np.sum(x**2)\n",
    "\n",
    "pob_size = 50      # tamaño de la población \n",
    "a = -10            # valor mínimo de x\n",
    "b = 10             # valor máximo de x\n",
    "decimales = 3        # número de decimales\n",
    "n = 2              # variables a considerar\n",
    "t = m * n          # total de bits \n",
    "epsilon = 1e-6     # cota de selección\n",
    "proba_cruza = 0.8  # probabilidad de cruza\n",
    "proba_muta = 1/t   # probabilidad de mutación\n",
    "generaciones = 100  # número de generaciones\n",
    "etapas = 5        # número de etapas  "
   ]
  },
  {
   "cell_type": "markdown",
   "metadata": {},
   "source": [
    "# Rosenbrok\n",
    "def funcion(x):\n",
    "    return np.sum(100 * (x[1:] - x[:-1]**2)**2 + (1 - x[:-1])**2)\n",
    "\n",
    "m = 15             # longitud del genotipo\n",
    "pob_size = 50      # tamaño de la población \n",
    "a = -10            # valor mínimo de x\n",
    "b = 10             # valor máximo de x\n",
    "decimales = 3      # número de decimales\n",
    "n = 5              # variables a considerar\n",
    "t = m * n          # total de bits \n",
    "epsilon = 1e-6     # cota de selección\n",
    "proba_cruza = 0.8  # probabilidad de cruza\n",
    "proba_muta = 1/t   # probabilidad de mutación\n",
    "generaciones = 100 # número de generaciones\n",
    "etapas = 5         # número de etapas"
   ]
  },
  {
   "cell_type": "markdown",
   "metadata": {},
   "source": [
    "# Himmelblau's\n",
    "def funcion(x,y):\n",
    "    return (x**2 + y - 11)**2 + (x + y**2 - 7)**2\n",
    "\n",
    "m = 14             # longitud del genotipo\n",
    "pob_size = 50      # tamaño de la población \n",
    "a = -5            # valor mínimo de x\n",
    "b = 5             # valor máximo de x\n",
    "decimales = 3      # número de decimales\n",
    "n = 2              # variables a considerar\n",
    "t = m * n          # total de bits \n",
    "epsilon = 1e-6     # cota de selección\n",
    "proba_cruza = 0.8  # probabilidad de cruza\n",
    "proba_muta = 1/t   # probabilidad de mutación\n",
    "generaciones = 100  # número de generaciones\n",
    "etapas = 5         # número de etapas  \n"
   ]
  },
  {
   "cell_type": "markdown",
   "metadata": {},
   "source": [
    "# Eggholder\n",
    "def funcion(x,y):\n",
    "    term1 = np.sin(np.sqrt(np.abs(x/2 + y + 47)))\n",
    "    term2 = np.sin(np.sqrt(np.abs(x - (y + 47))))\n",
    "    return -(y + 47) * term1 - x * term2\n",
    "\n",
    "m = 20             # longitud del genotipo\n",
    "pob_size = 50      # tamaño de la población \n",
    "a = -512            # valor mínimo de x\n",
    "b = 512             # valor máximo de x\n",
    "decimales=3        # número de decimales\n",
    "n = 2              # variables a considerar\n",
    "t = m * n          # total de bits \n",
    "epsilon = 1e-6     # cota de selección\n",
    "proba_cruza = 0.8  # probabilidad de cruza\n",
    "proba_muta = 1/t   # probabilidad de mutación\n",
    "generaciones = 100  # número de generaciones\n",
    "etapas = 5        # número de etapas  "
   ]
  },
  {
   "cell_type": "code",
   "execution_count": 26,
   "metadata": {},
   "outputs": [],
   "source": [
    "def gen_pop_real(pob_size, n, a, b):\n",
    "    return np.round(np.random.uniform(a, b, (pob_size, n)), decimals=decimales)"
   ]
  },
  {
   "cell_type": "markdown",
   "metadata": {},
   "source": [
    "En ésta parte también se diferencia la evaluación de la función"
   ]
  },
  {
   "cell_type": "code",
   "execution_count": 27,
   "metadata": {},
   "outputs": [],
   "source": [
    "# Esfera y Rosenbrock\n",
    "def eva_funcion(ind):\n",
    "    x= ind\n",
    "    return funcion(x)"
   ]
  },
  {
   "cell_type": "markdown",
   "metadata": {},
   "source": [
    "# Himmelblau's y Eggholder\n",
    "def eva_funcion(ind):\n",
    "    x,y= ind\n",
    "    return funcion(x,y)"
   ]
  },
  {
   "cell_type": "code",
   "execution_count": 28,
   "metadata": {},
   "outputs": [],
   "source": [
    "#  torneo\n",
    "def torneo(pob, epsilon):\n",
    "    idx1, idx2 = np.random.choice(len(pob), 2, replace=False)\n",
    "    f1, f2 = eva_funcion(pob[idx1]), eva_funcion(pob[idx2])\n",
    "    return pob[idx1] if f1 < f2 else pob[idx2]"
   ]
  },
  {
   "cell_type": "code",
   "execution_count": 29,
   "metadata": {},
   "outputs": [],
   "source": [
    "# Cruza \n",
    "def cruzar(padre1, padre2, prob_cruza):\n",
    "    if np.random.rand() < prob_cruza:\n",
    "        alpha = np.random.rand()  \n",
    "        hijo1 = alpha * padre1 + (1 - alpha) * padre2\n",
    "        hijo2 = (1 - alpha) * padre1 + alpha * padre2\n",
    "        return hijo1, hijo2\n",
    "    else:\n",
    "        return padre1.copy(), padre2.copy()"
   ]
  },
  {
   "cell_type": "code",
   "execution_count": 30,
   "metadata": {},
   "outputs": [
    {
     "name": "stdout",
     "output_type": "stream",
     "text": [
      "\n",
      "=== Etapa 1 ===\n",
      "Generación 0 - Mejor: 2.490 | Promedio: 71.173\n",
      "Generación 10 - Mejor: 0.000 | Promedio: 0.045\n",
      "Generación 20 - Mejor: 0.000 | Promedio: 0.143\n",
      "Generación 30 - Mejor: 0.000 | Promedio: 0.003\n",
      "Generación 40 - Mejor: 0.000 | Promedio: 0.059\n",
      "Generación 50 - Mejor: 0.000 | Promedio: 0.040\n",
      "Generación 60 - Mejor: 0.000 | Promedio: 0.125\n",
      "Generación 70 - Mejor: 0.000 | Promedio: 0.011\n",
      "Generación 80 - Mejor: 0.000 | Promedio: 0.054\n",
      "Generación 90 - Mejor: 0.000 | Promedio: 0.005\n",
      "\n",
      "=== Etapa 2 ===\n",
      "Generación 0 - Mejor: 0.000 | Promedio: 0.065\n",
      "Generación 10 - Mejor: 0.000 | Promedio: 0.037\n",
      "Generación 20 - Mejor: 0.000 | Promedio: 0.000\n",
      "Generación 30 - Mejor: 0.000 | Promedio: 0.017\n",
      "Generación 40 - Mejor: 0.000 | Promedio: 0.028\n",
      "Generación 50 - Mejor: 0.000 | Promedio: 0.142\n",
      "Generación 60 - Mejor: 0.000 | Promedio: 0.094\n",
      "Generación 70 - Mejor: 0.000 | Promedio: 0.008\n",
      "Generación 80 - Mejor: 0.000 | Promedio: 0.204\n",
      "Generación 90 - Mejor: 0.000 | Promedio: 0.091\n",
      "\n",
      "=== Etapa 3 ===\n",
      "Generación 0 - Mejor: 0.000 | Promedio: 0.013\n",
      "Generación 10 - Mejor: 0.000 | Promedio: 0.129\n",
      "Generación 20 - Mejor: 0.000 | Promedio: 0.164\n",
      "Generación 30 - Mejor: 0.000 | Promedio: 0.067\n",
      "Generación 40 - Mejor: 0.000 | Promedio: 0.121\n",
      "Generación 50 - Mejor: 0.000 | Promedio: 0.073\n",
      "Generación 60 - Mejor: 0.000 | Promedio: 0.072\n",
      "Generación 70 - Mejor: 0.000 | Promedio: 0.098\n",
      "Generación 80 - Mejor: 0.000 | Promedio: 0.059\n",
      "Generación 90 - Mejor: 0.000 | Promedio: 0.004\n",
      "\n",
      "=== Etapa 4 ===\n",
      "Generación 0 - Mejor: 0.000 | Promedio: 0.028\n",
      "Generación 10 - Mejor: 0.000 | Promedio: 0.094\n",
      "Generación 20 - Mejor: 0.000 | Promedio: 0.197\n",
      "Generación 30 - Mejor: 0.000 | Promedio: 0.042\n",
      "Generación 40 - Mejor: 0.000 | Promedio: 0.054\n",
      "Generación 50 - Mejor: 0.000 | Promedio: 0.398\n",
      "Generación 60 - Mejor: 0.000 | Promedio: 0.052\n",
      "Generación 70 - Mejor: 0.000 | Promedio: 0.001\n",
      "Generación 80 - Mejor: 0.000 | Promedio: 0.042\n",
      "Generación 90 - Mejor: 0.000 | Promedio: 0.027\n",
      "\n",
      "=== Etapa 5 ===\n",
      "Generación 0 - Mejor: 0.000 | Promedio: 0.063\n",
      "Generación 10 - Mejor: 0.000 | Promedio: 0.006\n",
      "Generación 20 - Mejor: 0.000 | Promedio: 0.220\n",
      "Generación 30 - Mejor: 0.000 | Promedio: 0.248\n",
      "Generación 40 - Mejor: 0.000 | Promedio: 0.170\n",
      "Generación 50 - Mejor: 0.000 | Promedio: 0.117\n",
      "Generación 60 - Mejor: 0.000 | Promedio: 0.028\n",
      "Generación 70 - Mejor: 0.000 | Promedio: 0.008\n",
      "Generación 80 - Mejor: 0.000 | Promedio: 0.426\n",
      "Generación 90 - Mejor: 0.000 | Promedio: 0.007\n",
      "\n",
      "Resultado final:\n",
      "Mejor individuo (x1, x2): [ 0. -0.]\n",
      "Mejor evaluación f(x1, x2): 0.0\n"
     ]
    },
    {
     "data": {
      "image/png": "[encoded data removed]",
      "text/plain": [
       "<Figure size 1000x500 with 1 Axes>"
      ]
     },
     "metadata": {},
     "output_type": "display_data"
    }
   ],
   "source": [
    "# %% Mutación gaussiana\n",
    "def mutar(ind, prob_muta, a, b):\n",
    "    mutante = ind.copy()\n",
    "    for i in range(len(mutante)):\n",
    "        if np.random.rand() < prob_muta:\n",
    "            mutante[i] += np.random.normal(0, 1)  # Perturbación gaussiana\n",
    "            mutante[i] = np.clip(mutante[i], a, b)  # Mantener dentro del rango\n",
    "    return np.round(mutante, decimals=decimales)\n",
    "\n",
    "# %% Algoritmo Genético con codificación real\n",
    "def AG_real(pob_size, n, a, b, decimales, epsilon, proba_cruza, proba_muta, etapas, generaciones):\n",
    "    pob = gen_pop_real(pob_size, n, a, b)\n",
    "\n",
    "    mejor_hijo = None\n",
    "    mejor_aptitud = np.inf\n",
    "    h = []      # Historial del mejor\n",
    "    h_pp = []   # Historial del promedio\n",
    "\n",
    "    for eta in range(etapas):\n",
    "        print(f\"\\n=== Etapa {eta+1} ===\")\n",
    "        for gen in range(generaciones):\n",
    "            evaluar = np.array([eva_funcion(ind) for ind in pob])\n",
    "            mejor_ahora = np.min(evaluar)\n",
    "            h.append(mejor_ahora)\n",
    "            h_pp.append(np.mean(evaluar))\n",
    "\n",
    "            if mejor_ahora < mejor_aptitud:\n",
    "                mejor_aptitud = mejor_ahora\n",
    "                mejor_hijo = pob[np.argmin(evaluar)]\n",
    "\n",
    "            if gen % 10 == 0:\n",
    "                print(f\"Generación {gen} - Mejor: {mejor_ahora:.3f} | Promedio: {np.mean(evaluar):.3f}\")\n",
    "\n",
    "            # Selección y reproducción\n",
    "            nueva_pob = []\n",
    "            while len(nueva_pob) < pob_size:\n",
    "                padre1 = torneo(pob, epsilon)\n",
    "                padre2 = torneo(pob, epsilon)\n",
    "                hijo1, hijo2 = cruzar(padre1, padre2, proba_cruza)\n",
    "                hijo1 = mutar(hijo1, proba_muta, a, b)\n",
    "                hijo2 = mutar(hijo2, proba_muta, a, b)\n",
    "                nueva_pob.append(hijo1)\n",
    "                if len(nueva_pob) < pob_size:\n",
    "                    nueva_pob.append(hijo2)\n",
    "\n",
    "            pob = np.array(nueva_pob)\n",
    "\n",
    "    return mejor_hijo, mejor_aptitud, h, h_pp\n",
    "\n",
    "# %% Ejecutar el algoritmo genético\n",
    "def main():\n",
    "    mejor_ind, mejor_apt, h, h_pp = AG_real(\n",
    "        pob_size, n, a, b, decimales, epsilon, proba_cruza, proba_muta,\n",
    "        etapas, generaciones)\n",
    "    \n",
    "    print(\"\\nResultado final:\")\n",
    "    print(\"Mejor individuo (x1, x2):\", mejor_ind)\n",
    "    print(\"Mejor evaluación f(x1, x2):\", round(mejor_apt, decimales))\n",
    "\n",
    "    plt.figure(figsize=(10, 5))\n",
    "    plt.plot(h, label=\"Mejor evaluación\")\n",
    "    plt.plot(h_pp, label=\"Promedio de evaluación\")\n",
    "    plt.xlabel(\"Generación\")\n",
    "    plt.ylabel(\"Evaluación\")\n",
    "    plt.title(\"Evolución del Algoritmo Genético (Codificación Real)\")\n",
    "    plt.legend()\n",
    "    plt.grid(True)\n",
    "    plt.show()\n",
    "\n",
    "if __name__ == \"__main__\":\n",
    "    main()\n"
   ]
  }
 ],
 "metadata": {
  "kernelspec": {
   "display_name": "Python 3",
   "language": "python",
   "name": "python3"
  },
  "language_info": {
   "codemirror_mode": {
    "name": "ipython",
    "version": 3
   },
   "file_extension": ".py",
   "mimetype": "text/x-python",
   "name": "python",
   "nbconvert_exporter": "python",
   "pygments_lexer": "ipython3",
   "version": "3.11.5"
  }
 },
 "nbformat": 4,
 "nbformat_minor": 2
}
