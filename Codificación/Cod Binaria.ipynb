{
 "cells": [
  {
   "cell_type": "code",
   "execution_count": 16,
   "metadata": {},
   "outputs": [],
   "source": [
    "import numpy as np\n",
    "import matplotlib.pyplot as plt"
   ]
  },
  {
   "cell_type": "code",
   "execution_count": 15,
   "metadata": {},
   "outputs": [],
   "source": [
    "m = 20             # longitud del genotipo\n",
    "pob_size = 50      # tamaño de la población \n",
    "a = -10            # valor mínimo de x\n",
    "b = 10             # valor máximo de x\n",
    "decimales = 3      # número de decimales\n",
    "n = 2              # variables a considerar\n",
    "t = m * n          # total de bits \n",
    "epsilon = 1e-6     # cota de selección\n",
    "proba_cruza = 0.8  # probabilidad de cruza\n",
    "proba_muta = 1/t   # probabilidad de mutación\n",
    "generaciones = 50  # número de generaciones\n",
    "etapas = 5         # número de etapas  "
   ]
  },
  {
   "cell_type": "code",
   "execution_count": null,
   "metadata": {},
   "outputs": [],
   "source": [
    "def gen_pop(pob_size, t):\n",
    "    return np.random.randint(0, 2, (pob_size, t))"
   ]
  },
  {
   "cell_type": "code",
   "execution_count": null,
   "metadata": {},
   "outputs": [],
   "source": [
    "pob = gen_pop(pob_size, t)\n",
    "print(\"Población:\")\n",
    "print(pob)"
   ]
  },
  {
   "cell_type": "code",
   "execution_count": null,
   "metadata": {},
   "outputs": [],
   "source": [
    "def deco(genotipo): \n",
    "    powers = 2 ** np.arange(m-1, -1, -1)\n",
    "    return np.dot(genotipo, powers)\n"
   ]
  },
  {
   "cell_type": "code",
   "execution_count": null,
   "metadata": {},
   "outputs": [],
   "source": [
    "def deco_ind(ind, m, a, b, decimales):\n",
    "    decoded = []\n",
    "    for i in range(n):\n",
    "        start = i * m\n",
    "        end = start + m\n",
    "        gene = ind[start:end]\n",
    "        valor_deco = deco(gene)\n",
    "        x = a + valor_deco * (b - a) / (2**m - 1)\n",
    "        decoded.append(round(x, decimales))\n",
    "    return np.array(decoded)\n"
   ]
  },
  {
   "cell_type": "code",
   "execution_count": null,
   "metadata": {},
   "outputs": [],
   "source": [
    "#def funcion(x):\n",
    "    #return np.sum(x**2)\n",
    "#def funcion(x,y):\n",
    "     #return np.sum(x**2) # esfera\n",
    "    #return np.sum(100 * (x[1:] - x[:-1]**2)**2 + (1 - x[:-1])**2) #rosenbrock\n",
    " #   return (x**2 + y - 11)**2 + (x + y**2 - 7)**2 #himmenblau\n",
    "\n",
    "def funcion(x,y):\n",
    "   term1 = np.sin(np.sqrt(np.abs(x/2 + y + 47)))\n",
    "   term2 = np.sin(np.sqrt(np.abs(x - (y + 47))))\n",
    "   return -(y + 47) * term1 - x * term2\n",
    "\n"
   ]
  },
  {
   "cell_type": "code",
   "execution_count": null,
   "metadata": {},
   "outputs": [],
   "source": []
  },
  {
   "cell_type": "code",
   "execution_count": null,
   "metadata": {},
   "outputs": [],
   "source": [
    "def eva_funcion(ind, a, b, m, decimales):\n",
    "    x,y= deco_ind(ind, a, b, m, decimales)\n",
    "    return funcion(x,y)"
   ]
  },
  {
   "cell_type": "code",
   "execution_count": null,
   "metadata": {},
   "outputs": [],
   "source": [
    "def main():\n",
    "    \n",
    "    for idx, ind in enumerate(pob):\n",
    "        decoded = deco_ind(ind, m, a, b, decimales)\n",
    "        evaluation = eva_funcion(ind, m, a, b, decimales)\n",
    "        print(f\"\\nIndividuo {idx+1}:\")\n",
    "        print(\"Genotipo:\", ind)\n",
    "        print(\"Fenotipo:\", decoded)\n",
    "        print(\"Evaluación f(x):\", evaluation)\n",
    "\n",
    "if __name__ == \"__main__\":\n",
    "    main()\n"
   ]
  },
  {
   "cell_type": "code",
   "execution_count": null,
   "metadata": {},
   "outputs": [],
   "source": [
    "def torneo(pob, m, a, b, decimales, epsilon):\n",
    "    idx1 = np.random.randint(0, len(pob))\n",
    "    idx2 = np.random.randint(0, len(pob))\n",
    "\n",
    "    f1 = eva_funcion(pob[idx1],m, a, b, decimales)\n",
    "    f2 = eva_funcion(pob[idx2],m, a, b, decimales)\n",
    "\n",
    "    if f1 < f2:\n",
    "        return pob[idx1], idx1\n",
    "    else:\n",
    "        return pob[idx2], idx2"
   ]
  },
  {
   "cell_type": "code",
   "execution_count": null,
   "metadata": {},
   "outputs": [],
   "source": [
    "def cruzar(padre1, padre2, prob_cruza):\n",
    "    if np.random.rand() < prob_cruza:\n",
    "        point = np.random.randint(1, len(padre1))\n",
    "        hijo1 = np.concatenate((padre1[:point], padre2[point:]))\n",
    "        hijo2 = np.concatenate((padre2[:point], padre1[point:]))\n",
    "        return hijo1, hijo2\n",
    "    else:\n",
    "        return padre1.copy(), padre2.copy()"
   ]
  },
  {
   "cell_type": "code",
   "execution_count": null,
   "metadata": {},
   "outputs": [],
   "source": [
    "def mutar(ind, prob_muta):\n",
    "    mutante = ind.copy()\n",
    "    for i in range(len(mutante)):\n",
    "        if np.random.rand() < prob_muta:\n",
    "            mutante[i] = 1 - mutante[i]\n",
    "    return mutante"
   ]
  },
  {
   "cell_type": "code",
   "execution_count": null,
   "metadata": {},
   "outputs": [],
   "source": [
    "def AG_etapas_torneo(pob_size, m, a, b, decimales, epsilon, proba_cruza, proba_muta,\n",
    "                     etapas, generaciones):\n",
    "    pob = gen_pop(pob_size, t)\n",
    "    \n",
    "    mejor_hijo = None\n",
    "    mejor_aptitud = np.inf\n",
    "    total_generacion = 0\n",
    "    h = []      # Historial de la mejor evaluación en cada generación\n",
    "    h_pp = []  # Historial del promedio de evaluaciones en cada generación\n",
    "    \n",
    "    elite = int(np.ceil(0.2 * pob_size))\n",
    "    \n",
    "    for eta in range(etapas):\n",
    "        print(f\"\\n=== Etapa {eta+1} ===\")\n",
    "        eta_h = []\n",
    "        eta_h_pp = []\n",
    "        for gen in range(generaciones):\n",
    "            total_generacion += 1\n",
    "            evaluar = [eva_funcion(ind, m, a, b, decimales) for ind in pob]\n",
    "            mejor_ahora = min(evaluar)\n",
    "            current_avg = np.mean(evaluar)\n",
    "            eta_h.append(mejor_ahora)\n",
    "            eta_h_pp.append(current_avg)\n",
    "            h.append(mejor_ahora)\n",
    "            h_pp.append(current_avg)\n",
    "\n",
    "            if mejor_ahora < mejor_aptitud:\n",
    "                mejor_aptitud = mejor_ahora\n",
    "                mejor_hijo = pob[evaluar.index(mejor_ahora)]\n",
    "\n",
    "            if total_generacion % 10 == 0:\n",
    "                print(f\"Generación {total_generacion} - Mejor: {round(mejor_ahora, decimales)} | Promedio: {round(current_avg, decimales)}\")\n",
    "\n",
    "            #if round(mejor_ahora, decimales) <= target:\n",
    "            #    print(\"Se ha alcanzado el objetivo\")\n",
    "            #   return mejor_hijo, mejor_ahora, total_generacion, h, h_pp \n",
    "            \n",
    "            # elitismo\n",
    "            sorted_indices = np.argsort(evaluar)\n",
    "            elite_idx = [pob[i] for i in sorted_indices[:elite]]\n",
    "            \n",
    "            \n",
    "            new_pob_elite = []\n",
    "            while len(new_pob_elite) < (pob_size - elite):\n",
    "                padre1, _ = torneo(pob, m, a, b, decimales, epsilon)\n",
    "                padre2, _ = torneo(pob, m, a, b, decimales, epsilon)\n",
    "                \n",
    "                hijo1, hijo2 = cruzar(padre1, padre2, proba_cruza)\n",
    "                hijo1 = mutar(hijo1, proba_muta)\n",
    "                hijo2 = mutar(hijo2, proba_muta)\n",
    "                \n",
    "                new_pob_elite.append(hijo1)\n",
    "                if len(new_pob_elite) < (pob_size - elite):\n",
    "                    new_pob_elite.append(hijo2)\n",
    "            \n",
    "            pob = np.array(new_pob_elite + elite_idx)\n",
    "        print(f\"Fin de la Etapa {eta+1}: Mejor en etapa: {round(min(eta_h), decimales)} | Promedio etapa: {round(np.mean(eta_h_pp), decimales)}\")\n",
    "    \n",
    "    return mejor_hijo, mejor_aptitud, total_generacion, h, h_pp"
   ]
  },
  {
   "cell_type": "code",
   "execution_count": null,
   "metadata": {},
   "outputs": [],
   "source": [
    "print(\"Iteración 1\")\n",
    "def main():\n",
    "    mejor_ind, mejor_apt, total_generacion, h, h_pp = AG_etapas_torneo(\n",
    "        pob_size, m, a, b, decimales, epsilon, proba_cruza, proba_muta,\n",
    "        etapas, generaciones)\n",
    "    \n",
    "    print(\"\\nResultado final:\")\n",
    "    print(\"Total de generaciones:\", total_generacion)\n",
    "    print(\"Mejor genotipo:\", mejor_ind)\n",
    "    print(\"Mejor fenotipo (x1,...,xn):\", deco_ind(mejor_ind, m, a, b, decimales))\n",
    "    print(\"Mejor evaluación f(x1,...,xn):\", round(mejor_apt, decimales))\n",
    "    \n",
    "    \n",
    "    gen_indices = np.arange(1, len(h)+1)\n",
    "    gen_indices_thinned = gen_indices[::10]\n",
    "    h_thinned = np.array(h)[::10]\n",
    "    h_pp_thinned = np.array(h_pp)[::10]\n",
    "    \n",
    "    plt.figure(figsize=(10, 5))\n",
    "    plt.plot(gen_indices_thinned, h_thinned, marker='o', linestyle='-', label=\"Mejor evaluación\")\n",
    "    plt.plot(gen_indices_thinned, h_pp_thinned, marker='s', linestyle='-', label=\"Promedio de evaluación\")\n",
    "    plt.xlabel(\"Generación\")\n",
    "    plt.ylabel(\"Evaluación\")\n",
    "    plt.title(\"(Elitismo + Torneo)\")\n",
    "    plt.legend()\n",
    "    plt.grid(True)\n",
    "    plt.show()\n",
    "    \n",
    "if __name__ == \"__main__\":\n",
    "    main()\n",
    "    print(\"Iteración 2\")\n",
    "if __name__ == \"__main__\":\n",
    "    main()\n",
    "    print(\"Iteración 3\")\n",
    "if __name__ == \"__main__\":\n",
    "    main()\n",
    "    print(\"Iteración 4\")\n",
    "if __name__ == \"__main__\":\n",
    "    main()\n",
    "    print(\"Iteración 5\")\n",
    "if __name__ == \"__main__\":\n",
    "    main()            "
   ]
  }
 ],
 "metadata": {
  "kernelspec": {
   "display_name": "Python 3",
   "language": "python",
   "name": "python3"
  },
  "language_info": {
   "codemirror_mode": {
    "name": "ipython",
    "version": 3
   },
   "file_extension": ".py",
   "mimetype": "text/x-python",
   "name": "python",
   "nbconvert_exporter": "python",
   "pygments_lexer": "ipython3",
   "version": "3.11.5"
  }
 },
 "nbformat": 4,
 "nbformat_minor": 2
}
