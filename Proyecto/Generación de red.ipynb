{
 "cells": [
  {
   "cell_type": "code",
   "execution_count": 1,
   "id": "514e00df",
   "metadata": {},
   "outputs": [
    {
     "name": "stdout",
     "output_type": "stream",
     "text": [
      "SUMO C:\\Program Files (x86)\\Eclipse\\Sumo\n"
     ]
    }
   ],
   "source": [
    "import subprocess\n",
    "import os\n",
    "\n",
    "os.environ.setdefault(\"SUMO_HOME\", \"C:/path/to/sumo\")\n",
    "print(\"SUMO\", os.environ[\"SUMO_HOME\"])"
   ]
  },
  {
   "cell_type": "code",
   "execution_count": 5,
   "id": "a9b9c98d",
   "metadata": {},
   "outputs": [
    {
     "name": "stdout",
     "output_type": "stream",
     "text": [
      "Red generada\n"
     ]
    }
   ],
   "source": [
    "# Generación de una red de tráfico con SUMO\n",
    "\n",
    "def generar(n, largo, ln, vt, yt, salida):\n",
    "    cmd = [\n",
    "        \"netgenerate\",\n",
    "        \"--grid\",\n",
    "        \"--grid.number\", str(n),\n",
    "        \"--grid.length\", str(largo),\n",
    "        \"--default.lanenumber\", str(ln),\n",
    "        \"--default-junction-type\", \"traffic_light\",\n",
    "        \"--tls.guess\", \"true\",\n",
    "        \"--tls.green.time\", str(vt),\n",
    "        \"--tls.yellow.time\", str(yt),\n",
    "        \"--output-file\", salida\n",
    "    ]\n",
    "    subprocess.run(cmd, check=True)\n",
    "\n",
    "if __name__ == \"__main__\":\n",
    "    generar(4, 500, 4, 30, 5, \"net/Semaforo.net.xml\")\n",
    "    print(\"Red generada\")\n"
   ]
  },
  {
   "cell_type": "code",
   "execution_count": 7,
   "id": "4ff7cf9f",
   "metadata": {},
   "outputs": [
    {
     "name": "stdout",
     "output_type": "stream",
     "text": [
      "Trips generados en data/viajes.trips.xml y rutas en data/rutas.rou.xml\n"
     ]
    }
   ],
   "source": [
    "# Generación del tráfico aleatorio\n",
    "SUMO = os.path.join(os.environ[\"SUMO_HOME\"], \"tools\")\n",
    "\n",
    "semilla = 42 # para reproducibilidad\n",
    "\n",
    "Archivo   = \"net/Semáforo.net.xml\"\n",
    "Archivo_viajes  = \"data/viajes.trips.xml\"\n",
    "Archivo_rutas = \"data/rutas.rou.xml\"\n",
    "\n",
    "Tiempo_sim    = 3600    # duración de la simulación en segundos\n",
    "viajes_salidas = 1      # cada cuántos segundos sale un vehículo\n",
    "\n",
    "def generate_random_trips(netfile=Archivo,\n",
    "                          tripfile=Archivo_viajes,\n",
    "                          routefile=Archivo_rutas,\n",
    "                          end=Tiempo_sim,\n",
    "                          period=viajes_salidas,\n",
    "                          seed=semilla):\n",
    "    \n",
    "    rt_py = os.path.join(SUMO, \"randomTrips.py\")\n",
    "    subprocess.run([\n",
    "        \"python\", rt_py,\n",
    "        \"-n\", netfile,\n",
    "        \"-o\", tripfile,\n",
    "        \"--seed\", str(seed),\n",
    "        \"--end\", str(end),\n",
    "        \"--period\", str(period),\n",
    "        \"--fringe-factor\", \"10\"\n",
    "    ], check=True)\n",
    "    subprocess.run([\n",
    "        \"duarouter\",\n",
    "        \"-n\", netfile,\n",
    "        \"-t\", tripfile,\n",
    "        \"-o\", routefile\n",
    "    ], check=True)\n",
    "    print(f\"Trips generados en {tripfile} y rutas en {routefile}\")\n",
    "\n",
    "\n",
    "os.makedirs(\"data\", exist_ok=True)\n",
    "if not os.path.exists(Archivo_rutas):\n",
    "    generate_random_trips()\n"
   ]
  }
 ],
 "metadata": {
  "kernelspec": {
   "display_name": "Python 3",
   "language": "python",
   "name": "python3"
  },
  "language_info": {
   "codemirror_mode": {
    "name": "ipython",
    "version": 3
   },
   "file_extension": ".py",
   "mimetype": "text/x-python",
   "name": "python",
   "nbconvert_exporter": "python",
   "pygments_lexer": "ipython3",
   "version": "3.11.5"
  }
 },
 "nbformat": 4,
 "nbformat_minor": 5
}
